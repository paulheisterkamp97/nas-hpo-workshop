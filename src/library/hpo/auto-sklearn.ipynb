{
 "cells": [
  {
   "cell_type": "markdown",
   "id": "10b428bb",
   "metadata": {},
   "source": [
    "0. Install Auto-Sklearn"
   ]
  },
  {
   "cell_type": "code",
   "execution_count": null,
   "id": "42b42709",
   "metadata": {},
   "outputs": [],
   "source": [
    "%pip install auto-sklearn\n",
    "%pip install scikit-learn numpy pandas deap numpy"
   ]
  },
  {
   "cell_type": "markdown",
   "id": "41e156b8",
   "metadata": {},
   "source": [
    "1. Prepare your data "
   ]
  },
  {
   "cell_type": "code",
   "execution_count": null,
   "id": "c50176d3",
   "metadata": {},
   "outputs": [],
   "source": [
    "from sklearn.datasets import load_digits\n",
    "from sklearn.model_selection import train_test_split\n",
    "\n",
    "# Beispiel-Datensatz laden\n",
    "X, y = load_digits(return_X_y=True)\n",
    "\n",
    "# Daten in Train/Test-Splits aufteilen\n",
    "X_train, X_test, y_train, y_test = train_test_split(X, y, test_size=0.2, random_state=42)\n"
   ]
  },
  {
   "cell_type": "markdown",
   "id": "719303de",
   "metadata": {},
   "source": [
    "2. Configure auto-sklearn"
   ]
  },
  {
   "cell_type": "code",
   "execution_count": null,
   "id": "77a98802",
   "metadata": {},
   "outputs": [],
   "source": [
    "import autosklearn.classification\n",
    "\n",
    "# Auto-SKlearn-Classifier mit Zeitlimit konfigurieren\n",
    "automl = autosklearn.classification.AutoSklearnClassifier(\n",
    "    time_left_for_this_task=300,  # Gesamtzeit in Sekunden für die Optimierung\n",
    "    per_run_time_limit=30,        # Zeitlimit pro Modelllauf\n",
    "    resampling_strategy=\"cv\",     # Cross-Validation\n",
    "    resampling_strategy_arguments={'folds': 5}  # 5-fache Cross-Validation\n",
    ")\n"
   ]
  },
  {
   "cell_type": "markdown",
   "id": "e8744a8a",
   "metadata": {},
   "source": [
    "3. Training"
   ]
  },
  {
   "cell_type": "code",
   "execution_count": null,
   "id": "4bc1d9fd",
   "metadata": {},
   "outputs": [],
   "source": [
    "# Training starten\n",
    "automl.fit(X_train, y_train)"
   ]
  },
  {
   "cell_type": "markdown",
   "id": "19145b83",
   "metadata": {},
   "source": [
    "4. Analyze the Results"
   ]
  },
  {
   "cell_type": "code",
   "execution_count": null,
   "id": "d7b8dc6c",
   "metadata": {},
   "outputs": [],
   "source": [
    "# Beste Modellpipeline anzeigen\n",
    "print(automl.leaderboard())\n",
    "\n",
    "# Details des besten Modells\n",
    "print(automl.show_models())"
   ]
  },
  {
   "cell_type": "markdown",
   "id": "154f75b5",
   "metadata": {},
   "source": [
    "5.  Evaluate the Model"
   ]
  },
  {
   "cell_type": "code",
   "execution_count": null,
   "id": "f992b584",
   "metadata": {},
   "outputs": [],
   "source": [
    "from sklearn.metrics import accuracy_score\n",
    "\n",
    "# Vorhersagen auf Testdaten\n",
    "y_pred = automl.predict(X_test)\n",
    "\n",
    "# Genauigkeit berechnen\n",
    "accuracy = accuracy_score(y_test, y_pred)\n",
    "print(\"Test Accuracy:\", accuracy)\n"
   ]
  }
 ],
 "metadata": {
  "kernelspec": {
   "display_name": ".venv (3.13.2)",
   "language": "python",
   "name": "python3"
  },
  "language_info": {
   "name": "python",
   "version": "3.13.2"
  }
 },
 "nbformat": 4,
 "nbformat_minor": 5
}
