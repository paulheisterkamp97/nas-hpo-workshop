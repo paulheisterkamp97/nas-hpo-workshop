{
 "cells": [
  {
   "cell_type": "markdown",
   "id": "04cbac86",
   "metadata": {},
   "source": [
    "# Hyperband and Successive Halving\n",
    "\n",
    "#### Successive Halving:\n",
    "\n",
    "- Successive Halving is a resource-efficient algorithm that allocates resources (e.g., time, data, or iterations) to multiple configurations and eliminates the worst-performing ones at each step.\n",
    "- It starts by testing many configurations with minimal resources and progressively allocates more resources to the most promising configurations.\n",
    "#### Hyperband:\n",
    "\n",
    "- Hyperband extends Successive Halving by dynamically adjusting the allocation of resources based on the trade-off between the number of configurations tested and the resources allocated to each configuration.\n",
    "- It uses a parameter called R (maximum resources per configuration) to balance exploration and exploitation."
   ]
  },
  {
   "cell_type": "code",
   "execution_count": null,
   "id": "997e099d",
   "metadata": {},
   "outputs": [],
   "source": [
    "import torch\n",
    "\n",
    "# Define the objective function (to minimize)\n",
    "def objective_function(x):\n",
    "    return (x - 2) ** 2  # Minimum at x = 2\n",
    "\n",
    "# Successive Halving implementation\n",
    "def successive_halving(configurations, max_resources, reduction_factor):\n",
    "    num_configs = len(configurations)\n",
    "    resource_per_config = max_resources\n",
    "    iteration = 1\n",
    "\n",
    "    while num_configs > 1:\n",
    "        print(f\"Iteration {iteration}: {num_configs} configurations with {resource_per_config} resources each\")\n",
    "        \n",
    "        # Evaluate all configurations\n",
    "        scores = []\n",
    "        for config in configurations:\n",
    "            y = objective_function(config)  # Evaluate the objective function\n",
    "            scores.append(y)\n",
    "\n",
    "        # Sort configurations by performance (lower is better)\n",
    "        sorted_configs = sorted(zip(scores, configurations), key=lambda x: x[0])\n",
    "        \n",
    "        # Keep the top configurations based on the reduction factor\n",
    "        num_keep = max(1, num_configs // reduction_factor)\n",
    "        configurations = [config[1] for config in sorted_configs[:num_keep]]\n",
    "        \n",
    "        # Reduce resources per configuration\n",
    "        resource_per_config //= reduction_factor\n",
    "        num_configs = len(configurations)\n",
    "        iteration += 1\n",
    "\n",
    "    # Return the best configuration\n",
    "    best_config = configurations[0]\n",
    "    best_score = objective_function(best_config)\n",
    "    return best_config, best_score\n",
    "\n",
    "# Run Successive Halving\n",
    "if __name__ == \"__main__\":\n",
    "    initial_configs = [torch.rand(1) * 4.0 for _ in range(16)]  # 16 random configurations in [0, 4]\n",
    "    max_resources = 27  # Total resources\n",
    "    reduction_factor = 3  # Reduce by a factor of 3 each iteration\n",
    "\n",
    "    best_config, best_score = successive_halving(initial_configs, max_resources, reduction_factor)\n",
    "    print(f\"Best Configuration: x = {best_config.item():.4f}, f(x) = {best_score.item():.4f}\")\n"
   ]
  },
  {
   "cell_type": "markdown",
   "id": "6075399b",
   "metadata": {},
   "source": [
    "#### Advantages of Hyperband\n",
    "\n",
    "1. Resource Efficiency:\n",
    "- Hyperband reduces wasted computational resources by focusing on promising configurations.\n",
    "2. Scalability:\n",
    "- Works well even with large hyperparameter spaces or expensive models, as it dynamically allocates resources.\n",
    "3. Exploration and Exploitation:\n",
    "- Balances testing many configurations (exploration) with refining the best ones (exploitation).\n",
    "#### When to Use Hyperband\n",
    "\n",
    "- When training is computationally expensive (e.g., deep learning models).\n",
    "- When you want to explore a large hyperparameter space efficiently.\n",
    "- When you need a dynamic trade-off between the number of configurations tested and the resources allocated."
   ]
  }
 ],
 "metadata": {
  "kernelspec": {
   "display_name": ".venv (3.13.2)",
   "language": "python",
   "name": "python3"
  },
  "language_info": {
   "name": "python",
   "version": "3.13.2"
  }
 },
 "nbformat": 4,
 "nbformat_minor": 5
}
