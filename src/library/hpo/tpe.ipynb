{
 "cells": [
  {
   "cell_type": "markdown",
   "id": "d3b0fc4e",
   "metadata": {},
   "source": [
    "# Tree-structured Parzen Estimators\n",
    "TPE is a Bayesian optimization method that models the search space probabilistically. \n",
    "\n",
    "Instead of exploring the hyperparameter space uniformly (like random search) or exhaustively (like grid search), TPE focuses its search on areas of the space where good configurations are likely to be found.  \n",
    "It does this by comparing the probabilities of configurations producing good results versus those producing bad results."
   ]
  },
  {
   "cell_type": "code",
   "execution_count": 1,
   "id": "3781189a",
   "metadata": {},
   "outputs": [
    {
     "name": "stderr",
     "output_type": "stream",
     "text": [
      "/Users/artemtscherwinski/hpo_workshop/.venv/lib/python3.13/site-packages/tqdm/auto.py:21: TqdmWarning: IProgress not found. Please update jupyter and ipywidgets. See https://ipywidgets.readthedocs.io/en/stable/user_install.html\n",
      "  from .autonotebook import tqdm as notebook_tqdm\n",
      "[I 2025-05-20 08:33:28,372] A new study created in memory with name: no-name-4f51c6a6-bf39-4cb1-a281-09568a0eea42\n",
      "[I 2025-05-20 08:33:28,436] Trial 0 finished with value: 0.12598358881683255 and parameters: {'x': 1.6450583304022581}. Best is trial 0 with value: 0.12598358881683255.\n",
      "[I 2025-05-20 08:33:28,437] Trial 1 finished with value: 1.761774646827092 and parameters: {'x': 0.6726814071869964}. Best is trial 0 with value: 0.12598358881683255.\n",
      "[I 2025-05-20 08:33:28,437] Trial 2 finished with value: 0.5707504751473766 and parameters: {'x': 2.7554802943474943}. Best is trial 0 with value: 0.12598358881683255.\n",
      "[I 2025-05-20 08:33:28,438] Trial 3 finished with value: 0.034586748568844694 and parameters: {'x': 2.1859751288985834}. Best is trial 3 with value: 0.034586748568844694.\n",
      "[I 2025-05-20 08:33:28,438] Trial 4 finished with value: 2.1627865363157497 and parameters: {'x': 3.470641539028376}. Best is trial 3 with value: 0.034586748568844694.\n",
      "[I 2025-05-20 08:33:28,438] Trial 5 finished with value: 1.8183133743478117 and parameters: {'x': 0.6515514936239457}. Best is trial 3 with value: 0.034586748568844694.\n",
      "[I 2025-05-20 08:33:28,439] Trial 6 finished with value: 0.5212480905529456 and parameters: {'x': 2.7219751315335907}. Best is trial 3 with value: 0.034586748568844694.\n",
      "[I 2025-05-20 08:33:28,439] Trial 7 finished with value: 2.197886176172545 and parameters: {'x': 3.482526956305532}. Best is trial 3 with value: 0.034586748568844694.\n",
      "[I 2025-05-20 08:33:28,440] Trial 8 finished with value: 2.52910742290802 and parameters: {'x': 0.4096832318974877}. Best is trial 3 with value: 0.034586748568844694.\n",
      "[I 2025-05-20 08:33:28,440] Trial 9 finished with value: 0.0028433227242503243 and parameters: {'x': 2.053322816169538}. Best is trial 9 with value: 0.0028433227242503243.\n",
      "[I 2025-05-20 08:33:28,443] Trial 10 finished with value: 0.41633963904222365 and parameters: {'x': 1.3547561398647612}. Best is trial 9 with value: 0.0028433227242503243.\n",
      "[I 2025-05-20 08:33:28,445] Trial 11 finished with value: 0.20945663462882236 and parameters: {'x': 2.457664325274346}. Best is trial 9 with value: 0.0028433227242503243.\n",
      "[I 2025-05-20 08:33:28,448] Trial 12 finished with value: 0.0008682153136966044 and parameters: {'x': 2.0294654936102656}. Best is trial 12 with value: 0.0008682153136966044.\n",
      "[I 2025-05-20 08:33:28,450] Trial 13 finished with value: 0.3914685775890128 and parameters: {'x': 1.3743255018869533}. Best is trial 12 with value: 0.0008682153136966044.\n",
      "[I 2025-05-20 08:33:28,452] Trial 14 finished with value: 0.16967873551727775 and parameters: {'x': 1.5880792120840734}. Best is trial 12 with value: 0.0008682153136966044.\n",
      "[I 2025-05-20 08:33:28,454] Trial 15 finished with value: 0.0004241295662157416 and parameters: {'x': 2.0205944061875}. Best is trial 15 with value: 0.0004241295662157416.\n",
      "[I 2025-05-20 08:33:28,456] Trial 16 finished with value: 1.2535686634796883 and parameters: {'x': 3.1196288061137443}. Best is trial 15 with value: 0.0004241295662157416.\n",
      "[I 2025-05-20 08:33:28,458] Trial 17 finished with value: 0.0016337458667031065 and parameters: {'x': 1.9595803777021221}. Best is trial 15 with value: 0.0004241295662157416.\n",
      "[I 2025-05-20 08:33:28,460] Trial 18 finished with value: 3.7307565549270394 and parameters: {'x': 3.9315166462981983}. Best is trial 15 with value: 0.0004241295662157416.\n",
      "[I 2025-05-20 08:33:28,462] Trial 19 finished with value: 1.1059521195209172 and parameters: {'x': 0.9483574183588241}. Best is trial 15 with value: 0.0004241295662157416.\n",
      "[I 2025-05-20 08:33:28,464] Trial 20 finished with value: 3.3802182632153146 and parameters: {'x': 0.1614630101041441}. Best is trial 15 with value: 0.0004241295662157416.\n",
      "[I 2025-05-20 08:33:28,466] Trial 21 finished with value: 0.03300163046789203 and parameters: {'x': 1.8183364910944082}. Best is trial 15 with value: 0.0004241295662157416.\n",
      "[I 2025-05-20 08:33:28,468] Trial 22 finished with value: 0.09961075742234184 and parameters: {'x': 2.3156117193995525}. Best is trial 15 with value: 0.0004241295662157416.\n",
      "[I 2025-05-20 08:33:28,470] Trial 23 finished with value: 0.5811603938837213 and parameters: {'x': 1.2376612341722866}. Best is trial 15 with value: 0.0004241295662157416.\n",
      "[I 2025-05-20 08:33:28,472] Trial 24 finished with value: 0.003996770215164143 and parameters: {'x': 1.9367799856440688}. Best is trial 15 with value: 0.0004241295662157416.\n",
      "[I 2025-05-20 08:33:28,474] Trial 25 finished with value: 0.3372097284156018 and parameters: {'x': 2.580697622188693}. Best is trial 15 with value: 0.0004241295662157416.\n",
      "[I 2025-05-20 08:33:28,477] Trial 26 finished with value: 0.7721276465566096 and parameters: {'x': 2.8787079415577224}. Best is trial 15 with value: 0.0004241295662157416.\n",
      "[I 2025-05-20 08:33:28,479] Trial 27 finished with value: 0.009228999303675964 and parameters: {'x': 2.096067680848847}. Best is trial 15 with value: 0.0004241295662157416.\n",
      "[I 2025-05-20 08:33:28,481] Trial 28 finished with value: 0.8300484062852019 and parameters: {'x': 1.0889300760725322}. Best is trial 15 with value: 0.0004241295662157416.\n",
      "[I 2025-05-20 08:33:28,483] Trial 29 finished with value: 0.08290558393975837 and parameters: {'x': 1.7120667022733245}. Best is trial 15 with value: 0.0004241295662157416.\n",
      "[I 2025-05-20 08:33:28,485] Trial 30 finished with value: 0.11386421063225846 and parameters: {'x': 1.6625622862923315}. Best is trial 15 with value: 0.0004241295662157416.\n",
      "[I 2025-05-20 08:33:28,487] Trial 31 finished with value: 0.0179653496798792 and parameters: {'x': 2.1340348823250097}. Best is trial 15 with value: 0.0004241295662157416.\n",
      "[I 2025-05-20 08:33:28,489] Trial 32 finished with value: 0.15960166504765394 and parameters: {'x': 2.399501771019421}. Best is trial 15 with value: 0.0004241295662157416.\n",
      "[I 2025-05-20 08:33:28,491] Trial 33 finished with value: 0.013256607171776593 and parameters: {'x': 1.8848626595244766}. Best is trial 15 with value: 0.0004241295662157416.\n",
      "[I 2025-05-20 08:33:28,493] Trial 34 finished with value: 0.22467763609968647 and parameters: {'x': 1.5259982741595908}. Best is trial 15 with value: 0.0004241295662157416.\n",
      "[I 2025-05-20 08:33:28,495] Trial 35 finished with value: 0.03133407625626954 and parameters: {'x': 2.1770143391261554}. Best is trial 15 with value: 0.0004241295662157416.\n",
      "[I 2025-05-20 08:33:28,497] Trial 36 finished with value: 0.9796895685961604 and parameters: {'x': 2.989792689706365}. Best is trial 15 with value: 0.0004241295662157416.\n",
      "[I 2025-05-20 08:33:28,499] Trial 37 finished with value: 0.40534740291870236 and parameters: {'x': 2.6366689900715303}. Best is trial 15 with value: 0.0004241295662157416.\n",
      "[I 2025-05-20 08:33:28,501] Trial 38 finished with value: 1.2042467845879061 and parameters: {'x': 0.9026182138435566}. Best is trial 15 with value: 0.0004241295662157416.\n",
      "[I 2025-05-20 08:33:28,503] Trial 39 finished with value: 0.00012099221441110416 and parameters: {'x': 1.9890003538960972}. Best is trial 39 with value: 0.00012099221441110416.\n",
      "[I 2025-05-20 08:33:28,505] Trial 40 finished with value: 0.011232642259773922 and parameters: {'x': 1.8940158395807472}. Best is trial 39 with value: 0.00012099221441110416.\n",
      "[I 2025-05-20 08:33:28,508] Trial 41 finished with value: 0.08137843346988594 and parameters: {'x': 2.285269054525523}. Best is trial 39 with value: 0.00012099221441110416.\n",
      "[I 2025-05-20 08:33:28,510] Trial 42 finished with value: 0.0028469279118337044 and parameters: {'x': 2.0533566107603707}. Best is trial 39 with value: 0.00012099221441110416.\n",
      "[I 2025-05-20 08:33:28,512] Trial 43 finished with value: 0.25983894576651323 and parameters: {'x': 1.4902559997738931}. Best is trial 39 with value: 0.00012099221441110416.\n",
      "[I 2025-05-20 08:33:28,514] Trial 44 finished with value: 0.2552296776267593 and parameters: {'x': 2.505202610471046}. Best is trial 39 with value: 0.00012099221441110416.\n",
      "[I 2025-05-20 08:33:28,516] Trial 45 finished with value: 0.09145903503100086 and parameters: {'x': 1.6975780513405139}. Best is trial 39 with value: 0.00012099221441110416.\n",
      "[I 2025-05-20 08:33:28,518] Trial 46 finished with value: 0.07636023790152337 and parameters: {'x': 2.276333562748942}. Best is trial 39 with value: 0.00012099221441110416.\n",
      "[I 2025-05-20 08:33:28,520] Trial 47 finished with value: 1.003859895209753e-06 and parameters: {'x': 1.9989980719111584}. Best is trial 47 with value: 1.003859895209753e-06.\n",
      "[I 2025-05-20 08:33:28,522] Trial 48 finished with value: 0.40651376784500676 and parameters: {'x': 1.3624156778550724}. Best is trial 47 with value: 1.003859895209753e-06.\n",
      "[I 2025-05-20 08:33:28,524] Trial 49 finished with value: 1.6227678529039247 and parameters: {'x': 3.273879057408483}. Best is trial 47 with value: 1.003859895209753e-06.\n"
     ]
    },
    {
     "name": "stdout",
     "output_type": "stream",
     "text": [
      "Optimal Parameters: {'x': 1.9989980719111584}\n",
      "Optimal Objective Value: 0.0000\n"
     ]
    }
   ],
   "source": [
    "import optuna\n",
    "\n",
    "# Define the objective function to minimize\n",
    "def objective(trial):\n",
    "    # Suggest a value for the parameter 'x' in the range [0, 4]\n",
    "    x = trial.suggest_float('x', 0.0, 4.0)\n",
    "    # Return the objective value (to minimize)\n",
    "    return (x - 2) ** 2\n",
    "\n",
    "# Perform hyperparameter optimization using TPE\n",
    "def tpe_optimization():\n",
    "    # Create a study object with TPE as the sampler\n",
    "    study = optuna.create_study(sampler=optuna.samplers.TPESampler(), direction=\"minimize\")\n",
    "    # Optimize the objective function over 50 trials\n",
    "    study.optimize(objective, n_trials=50)\n",
    "\n",
    "    # Retrieve the best result\n",
    "    best_params = study.best_params  # Best hyperparameter values\n",
    "    best_value = study.best_value  # Best objective value\n",
    "    return best_params, best_value\n",
    "\n",
    "# Run the TPE optimization\n",
    "if __name__ == \"__main__\":\n",
    "    best_params, best_value = tpe_optimization()\n",
    "    print(f\"Optimal Parameters: {best_params}\")\n",
    "    print(f\"Optimal Objective Value: {best_value:.4f}\")\n"
   ]
  },
  {
   "cell_type": "markdown",
   "id": "0425b2b0",
   "metadata": {},
   "source": [
    "#### Advantages of TPE\n",
    "\n",
    "- Efficient Search: TPE focuses on regions of the hyperparameter space that are more likely to yield good results.  \n",
    "- Bayesian Approach: It uses past results to guide the search intelligently, unlike random or grid search.  \n",
    "- Scalable: Works well even for large and complex hyperparameter spaces.  \n",
    "- Conditional Parameters: Handles tree-structured search spaces where certain parameters depend on others.  \n",
    "\n",
    "#### When to Use TPE\n",
    "\n",
    "- Use TPE when the hyperparameter space is large or difficult to explore.  \n",
    "- Ideal for problems where training models is expensive, as TPE minimizes the number of evaluations needed to find good hyperparameters.  \n",
    "- Works well for both continuous and discrete hyperparameters.  "
   ]
  },
  {
   "cell_type": "markdown",
   "id": "39279b4f",
   "metadata": {},
   "source": []
  }
 ],
 "metadata": {
  "kernelspec": {
   "display_name": ".venv (3.13.2)",
   "language": "python",
   "name": "python3"
  },
  "language_info": {
   "codemirror_mode": {
    "name": "ipython",
    "version": 3
   },
   "file_extension": ".py",
   "mimetype": "text/x-python",
   "name": "python",
   "nbconvert_exporter": "python",
   "pygments_lexer": "ipython3",
   "version": "3.13.2"
  }
 },
 "nbformat": 4,
 "nbformat_minor": 5
}
