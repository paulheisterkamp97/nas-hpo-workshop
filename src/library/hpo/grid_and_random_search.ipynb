{
 "cells": [
  {
   "cell_type": "markdown",
   "id": "5a9e1c1f",
   "metadata": {},
   "source": [
    "# Grid Search\n",
    "\n",
    "Test all possible combinations in the space. "
   ]
  },
  {
   "cell_type": "code",
   "execution_count": 1,
   "id": "053e3abe",
   "metadata": {},
   "outputs": [
    {
     "name": "stdout",
     "output_type": "stream",
     "text": [
      "Performing Grid Search...\n",
      "x = 0.0000, f(x) = 4.0000\n",
      "x = 0.2105, f(x) = 3.2022\n",
      "x = 0.4211, f(x) = 2.4931\n",
      "x = 0.6316, f(x) = 1.8726\n",
      "x = 0.8421, f(x) = 1.3407\n",
      "x = 1.0526, f(x) = 0.8975\n",
      "x = 1.2632, f(x) = 0.5429\n",
      "x = 1.4737, f(x) = 0.2770\n",
      "x = 1.6842, f(x) = 0.0997\n",
      "x = 1.8947, f(x) = 0.0111\n",
      "x = 2.1053, f(x) = 0.0111\n",
      "x = 2.3158, f(x) = 0.0997\n",
      "x = 2.5263, f(x) = 0.2770\n",
      "x = 2.7368, f(x) = 0.5429\n",
      "x = 2.9474, f(x) = 0.8975\n",
      "x = 3.1579, f(x) = 1.3407\n",
      "x = 3.3684, f(x) = 1.8726\n",
      "x = 3.5789, f(x) = 2.4931\n",
      "x = 3.7895, f(x) = 3.2022\n",
      "x = 4.0000, f(x) = 4.0000\n",
      "Grid Search Result: x = 1.8947, f(x) = 0.0111\n"
     ]
    }
   ],
   "source": [
    "import torch\n",
    "\n",
    "# Define the objective function (to minimize)\n",
    "def objective_function(x):\n",
    "    return (x - 2) ** 2  # Minimum is at x = 2\n",
    "\n",
    "# Grid Search implementation\n",
    "def grid_search(bounds, grid_points):\n",
    "    lower_bound, upper_bound = bounds\n",
    "    grid = torch.linspace(lower_bound, upper_bound, steps=grid_points)  # Create grid points\n",
    "    best_x = None\n",
    "    best_y = float('inf')  # Initialize to a large value\n",
    "\n",
    "    print(\"Performing Grid Search...\")\n",
    "    for x in grid:\n",
    "        y = objective_function(x)\n",
    "        print(f\"x = {x.item():.4f}, f(x) = {y.item():.4f}\")\n",
    "        if y < best_y:  # Keep track of the best solution\n",
    "            best_x = x\n",
    "            best_y = y\n",
    "\n",
    "    return best_x, best_y\n",
    "\n",
    "# Run Grid Search\n",
    "if __name__ == \"__main__\":\n",
    "    bounds = (0.0, 4.0)  # Search space bounds: [0, 4]\n",
    "    grid_points = 20  # Number of grid points\n",
    "    best_x, best_y = grid_search(bounds, grid_points)\n",
    "    print(f\"Grid Search Result: x = {best_x.item():.4f}, f(x) = {best_y.item():.4f}\")\n"
   ]
  },
  {
   "cell_type": "markdown",
   "id": "ca98a91c",
   "metadata": {},
   "source": [
    "#### Advantages:\n",
    "\n",
    "- Guarantees that the best combination of defined hyperparameter values will be found (as long as the optimal solution is within the defined parameter space).\n",
    "- Simple to implement and easy to understand.\n",
    "#### Disadvantages:\n",
    "\n",
    "- Can be extremely time- and resource-intensive, especially when the hyperparameter space is large.\n",
    "- Inefficient if only a few combinations are actually important (e.g., many parameters might have minimal or no impact on the model's performance)."
   ]
  },
  {
   "cell_type": "markdown",
   "id": "0936c47c",
   "metadata": {},
   "source": [
    "# Random Search\n",
    "\n",
    "Test random combinations. "
   ]
  },
  {
   "cell_type": "code",
   "execution_count": 2,
   "id": "9678a271",
   "metadata": {},
   "outputs": [
    {
     "name": "stdout",
     "output_type": "stream",
     "text": [
      "Performing Random Search...\n",
      "x = 0.9707, f(x) = 1.0594\n",
      "x = 1.7587, f(x) = 0.0582\n",
      "x = 3.3309, f(x) = 1.7713\n",
      "x = 2.2377, f(x) = 0.0565\n",
      "x = 1.6011, f(x) = 0.1591\n",
      "x = 2.4980, f(x) = 0.2480\n",
      "x = 2.8463, f(x) = 0.7162\n",
      "x = 0.2051, f(x) = 3.2216\n",
      "x = 1.0072, f(x) = 0.9857\n",
      "x = 0.0735, f(x) = 3.7114\n",
      "x = 2.1471, f(x) = 0.0216\n",
      "x = 1.6894, f(x) = 0.0965\n",
      "x = 2.0570, f(x) = 0.0032\n",
      "x = 0.6337, f(x) = 1.8668\n",
      "x = 2.0746, f(x) = 0.0056\n",
      "x = 0.8912, f(x) = 1.2294\n",
      "x = 0.2047, f(x) = 3.2230\n",
      "x = 2.0335, f(x) = 0.0011\n",
      "x = 3.0228, f(x) = 1.0460\n",
      "x = 0.3255, f(x) = 2.8039\n",
      "Random Search Result: x = 2.0335, f(x) = 0.0011\n"
     ]
    }
   ],
   "source": [
    "# Define the objective function (to minimize)\n",
    "def objective_function(x):\n",
    "    return (x - 2) ** 2  # Minimum is at x = 2\n",
    "\n",
    "# Random Search implementation\n",
    "def random_search(bounds, num_samples):\n",
    "    lower_bound, upper_bound = bounds\n",
    "    best_x = None\n",
    "    best_y = float('inf')  # Initialize to a large value\n",
    "\n",
    "    print(\"Performing Random Search...\")\n",
    "    for _ in range(num_samples):\n",
    "        x = torch.rand(1) * (upper_bound - lower_bound) + lower_bound  # Random point in [lower_bound, upper_bound]\n",
    "        y = objective_function(x)\n",
    "        print(f\"x = {x.item():.4f}, f(x) = {y.item():.4f}\")\n",
    "        if y < best_y:  # Keep track of the best solution\n",
    "            best_x = x\n",
    "            best_y = y\n",
    "\n",
    "    return best_x, best_y\n",
    "\n",
    "# Run Random Search\n",
    "if __name__ == \"__main__\":\n",
    "    bounds = (0.0, 4.0)  # Search space bounds: [0, 4]\n",
    "    num_samples = 20  # Number of random samples\n",
    "    best_x, best_y = random_search(bounds, num_samples)\n",
    "    print(f\"Random Search Result: x = {best_x.item():.4f}, f(x) = {best_y.item():.4f}\")\n"
   ]
  },
  {
   "cell_type": "markdown",
   "id": "4ad146e1",
   "metadata": {},
   "source": [
    "#### Advantages:\n",
    "\n",
    "- More efficient than Grid Search, especially for large hyperparameter spaces. You can often achieve good results with fewer tests.\n",
    "- Higher chance of finding a good combination if only a few hyperparameters significantly impact the model's performance.\n",
    "- Saves computational time and resources.\n",
    "#### Disadvantages:\n",
    "\n",
    "- Does not guarantee that the best possible combination will be found. The outcome depends on which random combinations are tested.\n",
    "- May be less effective in small search spaces, as not all combinations are explored."
   ]
  },
  {
   "cell_type": "markdown",
   "id": "a259ad2f",
   "metadata": {},
   "source": [
    "# What to use: \n",
    "### When Grid Search is Better:\n",
    "\n",
    "- Small Hyperparameter Space: When you want to test only a few parameters with a small number of possible values (e.g., 2-3 parameters with 3-5 values each).\n",
    "- Precise Optimization: When you want to ensure that the best solution is found.\n",
    "- Sufficient Resources: When you have enough computational power and time available.\n",
    "### When Random Search is Better:\n",
    "\n",
    "- Large Hyperparameter Space: When there are many parameters with multiple possible values, as Grid Search would be too resource-intensive.\n",
    "- Unclear Parameter Importance: When you’re not certain which parameters have the most impact. Random Search can often uncover good combinations faster in such cases.\n",
    "- Limited Resources: When computational power or time is limited."
   ]
  },
  {
   "cell_type": "markdown",
   "id": "60595432",
   "metadata": {},
   "source": []
  }
 ],
 "metadata": {
  "kernelspec": {
   "display_name": ".venv (3.13.2)",
   "language": "python",
   "name": "python3"
  },
  "language_info": {
   "codemirror_mode": {
    "name": "ipython",
    "version": 3
   },
   "file_extension": ".py",
   "mimetype": "text/x-python",
   "name": "python",
   "nbconvert_exporter": "python",
   "pygments_lexer": "ipython3",
   "version": "3.13.2"
  }
 },
 "nbformat": 4,
 "nbformat_minor": 5
}
