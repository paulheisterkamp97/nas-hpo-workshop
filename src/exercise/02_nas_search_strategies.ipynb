{
 "cells": [
  {
   "cell_type": "markdown",
   "metadata": {},
   "source": [
    "# Neural Architecture Search (NAS) Strategies\n",
    "\n",
    "This notebook demonstrates different Neural Architecture Search (NAS) strategies for finding optimal neural network architectures. We'll implement and compare the following approaches:\n",
    "\n",
    "1. **Random Search** - Efficient sampling with NumPy (ToDo during the workshop)\n",
    "2. **Reinforcement Learning** - Policy Gradient and Q-learning approaches\n",
    "3. **Evolutionary Search** - Simple Genetic Algorithm\n",
    "4. **Gradient-Based Search** - DARTS (Differentiable Architecture Search) with first-order approximations\n",
    "\n",
    "Each strategy will be evaluated on accuracy and inference time.\n",
    "\n",
    "### CIFAR-10 Dataset\n",
    "The dataset is the CIFAR-10 data, which is widely used to train machine learning and computer vision algorithms and research. It is a multi-class dataset. The 10 different classes represent airplanes, cars, birds, cats, deer, dogs, frogs, horses, ships, and trucks. There are 6,000 images of each class. "
   ]
  },
  {
   "cell_type": "markdown",
   "metadata": {},
   "source": [
    "## 1. Setup and Imports\n",
    "\n",
    "First, let's import the necessary libraries and set up our environment."
   ]
  },
  {
   "cell_type": "code",
   "execution_count": 2,
   "metadata": {},
   "outputs": [],
   "source": [
    "import sys\n",
    "import os\n",
    "\n",
    "# Add the project root (one level above 'src') to sys.path\n",
    "project_root = os.path.abspath(os.path.join(os.getcwd(), '..', '..'))\n",
    "if project_root not in sys.path:\n",
    "    sys.path.insert(0, project_root)"
   ]
  },
  {
   "cell_type": "code",
   "execution_count": 3,
   "metadata": {},
   "outputs": [],
   "source": [
    "import torch\n",
    "import torch.nn as nn\n",
    "import torch.optim as optim\n",
    "import numpy as np\n",
    "import matplotlib.pyplot as plt\n",
    "import time\n",
    "import random\n",
    "from tqdm.notebook import tqdm\n",
    "\n",
    "# Set random seeds for reproducibility\n",
    "random.seed(42)\n",
    "np.random.seed(42)\n",
    "torch.manual_seed(42)\n",
    "if torch.cuda.is_available():\n",
    "    torch.cuda.manual_seed(42)\n",
    "\n",
    "# Import our custom modules\n",
    "from src.library.nas.search_space import SearchSpace\n",
    "from src.library.nas.utils_2 import get_dataset, train_model, evaluate_model, get_best_torch_device, plot_comparison_results\n",
    "from src.library.nas.random_search import RandomSearch\n",
    "from src.library.nas.reinforcement_learning_search import ReinforcementLearningSearch\n",
    "from src.library.nas.evolutionary_search import EvolutionarySearch\n",
    "from src.library.nas.darts_search import DARTSSearch"
   ]
  },
  {
   "cell_type": "markdown",
   "metadata": {},
   "source": [
    "## 2. Search Space Definition\n",
    "\n",
    "The search space defines the possible neural network architectures that our NAS strategies will explore. Our search space includes:\n",
    "\n",
    "- Different convolutional operations (3x3, 5x5, 7x7 convolutions, max/avg pooling)\n",
    "- Various channel sizes\n",
    "- Different activation functions\n",
    "- Pooling operations\n",
    "- Fully connected layer sizes and dropout rates\n",
    "- Variable number of layers\n",
    "\n",
    "Let's examine our search space:"
   ]
  },
  {
   "cell_type": "code",
   "execution_count": 4,
   "metadata": {},
   "outputs": [
    {
     "name": "stdout",
     "output_type": "stream",
     "text": [
      "Search Space Details:\n",
      "Convolutional Operations: ['conv3x3', 'conv5x5', 'max_pool3x3', 'avg_pool3x3']\n",
      "Channel Choices: [16, 32, 64, 128]\n",
      "Number of Layers Range: (2, 6)\n",
      "Activation Functions: ['relu', 'leaky_relu', 'elu', 'selu']\n",
      "Pooling Operations: ['max_pool2x2', 'avg_pool2x2']\n",
      "FC Layer Sizes: [128, 256, 512, 1024]\n",
      "Dropout Rates: [0.0, 0.2, 0.3, 0.5]\n"
     ]
    }
   ],
   "source": [
    "# Initialize the search space\n",
    "search_space = SearchSpace()\n",
    "\n",
    "# Print search space details\n",
    "print(\"Search Space Details:\")\n",
    "print(f\"Convolutional Operations: {[op[0] for op in search_space.conv_ops]}\")\n",
    "print(f\"Channel Choices: {search_space.channel_choices}\")\n",
    "print(f\"Number of Layers Range: {search_space.num_layers_range}\")\n",
    "print(f\"Activation Functions: {[act[0] for act in search_space.activation_ops]}\")\n",
    "print(f\"Pooling Operations: {[pool[0] for pool in search_space.pooling_ops]}\")\n",
    "print(f\"FC Layer Sizes: {search_space.fc_sizes}\")\n",
    "print(f\"Dropout Rates: {search_space.dropout_rates}\")"
   ]
  },
  {
   "cell_type": "markdown",
   "metadata": {},
   "source": [
    "Let's sample a random architecture from our search space to understand its structure:"
   ]
  },
  {
   "cell_type": "code",
   "execution_count": 10,
   "metadata": {},
   "outputs": [
    {
     "name": "stdout",
     "output_type": "stream",
     "text": [
      "Random Architecture Sample:\n",
      "\n",
      "Convolutional Layers:\n",
      "Layer 1:\n",
      "  Operation: avg_pool3x3\n",
      "  Channels: 3 -> 16\n",
      "  Activation: selu\n",
      "  Pooling: avg_pool2x2\n",
      "Layer 2:\n",
      "  Operation: conv5x5\n",
      "  Channels: 16 -> 32\n",
      "  Activation: leaky_relu\n",
      "  Pooling: avg_pool2x2\n",
      "Layer 3:\n",
      "  Operation: avg_pool3x3\n",
      "  Channels: 32 -> 64\n",
      "  Activation: relu\n",
      "  Pooling: max_pool2x2\n",
      "\n",
      "Fully Connected Layers:\n",
      "Layer 1:\n",
      "  Size: 1024 -> 10\n",
      "  Activation: None\n",
      "  Dropout: 0.5\n"
     ]
    }
   ],
   "source": [
    "random_architecture = search_space.sample_simple_architecture()\n",
    "\n",
    "# Print architecture details\n",
    "print(\"Random Architecture Sample:\")\n",
    "print(\"\\nConvolutional Layers:\")\n",
    "for i, layer in enumerate(random_architecture['conv_layers']):\n",
    "    print(f\"Layer {i+1}:\")\n",
    "    print(f\"  Operation: {layer['op']}\")\n",
    "    print(f\"  Channels: {layer['in_channels']} -> {layer['out_channels']}\")\n",
    "    print(f\"  Activation: {layer['activation']}\")\n",
    "    print(f\"  Pooling: {layer['pooling'] if layer['use_pooling'] else 'None'}\")\n",
    "\n",
    "print(\"\\nFully Connected Layers:\")\n",
    "for i, layer in enumerate(random_architecture['fc_layers']):\n",
    "    print(f\"Layer {i+1}:\")\n",
    "    print(f\"  Size: {layer['in_features']} -> {layer['out_features']}\")\n",
    "    print(f\"  Activation: {layer['activation'] if layer['activation'] else 'None'}\")\n",
    "    print(f\"  Dropout: {layer['dropout_rate']}\")"
   ]
  },
  {
   "cell_type": "code",
   "execution_count": null,
   "metadata": {},
   "outputs": [],
   "source": [
    "# TODO: Sample a random architecture\n",
    "random_architecture = # implementation here\n",
    "\n",
    "# Print architecture details\n",
    "print(\"Random Architecture Sample:\")\n",
    "print(\"\\nConvolutional Layers:\")\n",
    "for i, layer in enumerate(random_architecture['conv_layers']):\n",
    "    print(f\"Layer {i+1}:\")\n",
    "    print(f\"  Operation: {layer['op']}\")\n",
    "    print(f\"  Channels: {layer['in_channels']} -> {layer['out_channels']}\")\n",
    "    print(f\"  Activation: {layer['activation']}\")\n",
    "    print(f\"  Pooling: {layer['pooling'] if layer['use_pooling'] else 'None'}\")\n",
    "\n",
    "print(\"\\nFully Connected Layers:\")\n",
    "for i, layer in enumerate(random_architecture['fc_layers']):\n",
    "    print(f\"Layer {i+1}:\")\n",
    "    print(f\"  Size: {layer['in_features']} -> {layer['out_features']}\")\n",
    "    print(f\"  Activation: {layer['activation'] if layer['activation'] else 'None'}\")\n",
    "    print(f\"  Dropout: {layer['dropout_rate']}\")"
   ]
  },
  {
   "cell_type": "markdown",
   "metadata": {},
   "source": [
    "Let's build a model from this architecture and check its structure:"
   ]
  },
  {
   "cell_type": "code",
   "execution_count": null,
   "metadata": {},
   "outputs": [],
   "source": [
    "# TODO: Build a model from the random architecture\n",
    "random_model = # implementation here\n",
    "\n",
    "# Print model summary\n",
    "print(random_model)"
   ]
  },
  {
   "cell_type": "markdown",
   "metadata": {},
   "source": [
    "## 3. Evaluation Framework\n",
    "\n",
    "Before diving into the NAS strategies, let's set up our evaluation framework. We'll use the CIFAR-10 dataset and evaluate models based on accuracy and inference time."
   ]
  },
  {
   "cell_type": "code",
   "execution_count": null,
   "metadata": {},
   "outputs": [],
   "source": [
    "# Get the best available device (GPU, MPS, or CPU)\n",
    "device = get_best_torch_device()\n",
    "print(f\"Using device: {device}\")\n",
    "\n",
    "# Load datasets with a small subset for faster evaluation during NAS\n",
    "train_loader, val_loader, test_loader = get_dataset(batch_size=64, small_subset=True)\n",
    "\n",
    "# Print dataset information\n",
    "print(f\"Training batches: {len(train_loader)}\")\n",
    "print(f\"Validation batches: {len(val_loader)}\")\n",
    "print(f\"Test batches: {len(test_loader)}\")"
   ]
  },
  {
   "cell_type": "markdown",
   "metadata": {},
   "source": [
    "Let's test our evaluation framework by training and evaluating the random model:"
   ]
  },
  {
   "cell_type": "code",
   "execution_count": null,
   "metadata": {},
   "outputs": [],
   "source": [
    "# Define loss function and optimizer\n",
    "criterion = nn.CrossEntropyLoss()\n",
    "optimizer = optim.Adam(random_model.parameters(), lr=0.001)\n",
    "\n",
    "# Train the model for a few epochs\n",
    "history = train_model(\n",
    "    model=random_model,\n",
    "    train_loader=train_loader,\n",
    "    val_loader=val_loader,\n",
    "    criterion=criterion,\n",
    "    optimizer=optimizer,\n",
    "    device=device,\n",
    "    num_epochs=2,  # test\n",
    "    verbose=True\n",
    ")"
   ]
  },
  {
   "cell_type": "code",
   "execution_count": null,
   "metadata": {},
   "outputs": [],
   "source": [
    "# Evaluate the model\n",
    "eval_results = evaluate_model(\n",
    "    model=random_model,\n",
    "    test_loader=test_loader,\n",
    "    device=device,\n",
    "    verbose=True\n",
    ")"
   ]
  },
  {
   "cell_type": "markdown",
   "metadata": {},
   "source": [
    "## 4. Random Search Strategy\n",
    "\n",
    "Random search is one of the simplest NAS strategies, but equally effective. It involves randomly sampling architectures from the search space and evaluating them.\n",
    "\n",
    "### 4.1 Theory\n",
    "\n",
    "Random search works by:\n",
    "1. Sampling random architectures from the search space\n",
    "2. Training and evaluating each architecture\n",
    "3. Selecting the best performing architecture\n",
    "\n",
    "Despite its simplicity, random search has several advantages:\n",
    "- Simple to implement and parallelize\n",
    "- No assumptions about the search space\n",
    "- Can find good architectures with enough samples\n",
    "- Provides a strong baseline for comparing other methods\n",
    "\n",
    "### 4.2 Implementation"
   ]
  },
  {
   "cell_type": "code",
   "execution_count": null,
   "metadata": {},
   "outputs": [],
   "source": [
    "# TODO: Initialize random search\n",
    "random_search = RandomSearch(\n",
    "    # Implement the required parameters for RandomSearch\n",
    ")"
   ]
  },
  {
   "cell_type": "code",
   "execution_count": null,
   "metadata": {},
   "outputs": [],
   "source": [
    "# Perform random search\n",
    "best_random_architecture, best_random_model = random_search.search(verbose=True)"
   ]
  },
  {
   "cell_type": "code",
   "execution_count": null,
   "metadata": {},
   "outputs": [],
   "source": [
    "# Plot search results\n",
    "random_search.plot_search_results()"
   ]
  },
  {
   "cell_type": "code",
   "execution_count": null,
   "metadata": {},
   "outputs": [],
   "source": [
    "# Get a summary of the best architecture found\n",
    "print(random_search.get_best_architecture_summary())"
   ]
  },
  {
   "cell_type": "code",
   "execution_count": null,
   "metadata": {},
   "outputs": [],
   "source": [
    "# TODO: Evaluate the model\n",
    "eval_results = evaluate_model(\n",
    "    # implementation here\n",
    ")"
   ]
  },
  {
   "cell_type": "markdown",
   "metadata": {},
   "source": [
    "## 5. Reinforcement Learning Strategies\n",
    "\n",
    "Reinforcement Learning (RL) is a powerful approach for NAS, where an agent learns to design neural architectures through trial and error.\n",
    "\n",
    "### 5.1 Theory\n",
    "\n",
    "In RL-based NAS:\n",
    "- A controller (agent) generates neural architectures\n",
    "- The performance of each architecture (e.g., validation accuracy) serves as the reward\n",
    "- The controller learns to maximize the expected reward by generating better architectures\n",
    "\n",
    "We'll implement two RL approaches:\n",
    "1. **Policy Gradient (REINFORCE)**: Directly learns a policy to generate architectures\n",
    "2. **Q-Learning**: Learns the value of architecture decisions\n",
    "\n",
    "### 5.2 Policy Gradient Implementation"
   ]
  },
  {
   "cell_type": "code",
   "execution_count": 18,
   "metadata": {},
   "outputs": [],
   "source": [
    "# Initialize policy gradient search\n",
    "policy_gradient_search = ReinforcementLearningSearch(\n",
    "    search_space=search_space,\n",
    "    method='policy_gradient',\n",
    "    num_episodes=10,  # Number of episodes/iterations\n",
    "    epochs_per_model=2,  # Number of epochs to train each model\n",
    "    batch_size=64,\n",
    "    device=device,\n",
    "    small_subset=True  # Use a small subset of data for faster evaluation\n",
    ")"
   ]
  },
  {
   "cell_type": "code",
   "execution_count": 7,
   "metadata": {},
   "outputs": [
    {
     "name": "stdout",
     "output_type": "stream",
     "text": [
      "Starting Policy Gradient Search with 10 episodes...\n"
     ]
    },
    {
     "name": "stderr",
     "output_type": "stream",
     "text": [
      " 50%|█████     | 5/10 [15:37<16:48, 201.68s/it]"
     ]
    },
    {
     "name": "stdout",
     "output_type": "stream",
     "text": [
      "Episode 5/10, Best accuracy: 38.00%\n"
     ]
    },
    {
     "name": "stderr",
     "output_type": "stream",
     "text": [
      "100%|██████████| 10/10 [29:59<00:00, 179.90s/it]"
     ]
    },
    {
     "name": "stdout",
     "output_type": "stream",
     "text": [
      "Episode 10/10, Best accuracy: 41.00%\n",
      "Policy Gradient Search completed in 29.98 minutes\n",
      "Best architecture accuracy: 41.00%\n"
     ]
    },
    {
     "name": "stderr",
     "output_type": "stream",
     "text": [
      "\n"
     ]
    }
   ],
   "source": [
    "# Perform policy gradient search\n",
    "best_pg_architecture, best_pg_model = policy_gradient_search.search(verbose=True)"
   ]
  },
  {
   "cell_type": "code",
   "execution_count": 19,
   "metadata": {},
   "outputs": [
    {
     "name": "stdout",
     "output_type": "stream",
     "text": [
      "No search results to plot. Run search() first.\n"
     ]
    }
   ],
   "source": [
    "# Plot search results\n",
    "policy_gradient_search.plot_search_results()"
   ]
  },
  {
   "cell_type": "code",
   "execution_count": 9,
   "metadata": {},
   "outputs": [
    {
     "name": "stdout",
     "output_type": "stream",
     "text": [
      "Best Architecture Summary (policy_gradient):\n",
      "Accuracy: 41.00%\n",
      "\n",
      "Convolutional Layers:\n",
      "Layer 1:\n",
      "  Operation: conv5x5\n",
      "  Channels: 3 -> 32\n",
      "  Activation: relu\n",
      "  Pooling: None\n",
      "Layer 2:\n",
      "  Operation: max_pool3x3\n",
      "  Channels: 32 -> 128\n",
      "  Activation: elu\n",
      "  Pooling: None\n",
      "\n",
      "Fully Connected Layers:\n",
      "Layer 1:\n",
      "  Size: 131072 -> 10\n",
      "  Activation: None\n",
      "  Dropout: 0.3\n",
      "\n"
     ]
    }
   ],
   "source": [
    "# Get a summary of the best architecture found\n",
    "print(policy_gradient_search.get_best_architecture_summary())"
   ]
  },
  {
   "cell_type": "markdown",
   "metadata": {},
   "source": [
    "### 5.3 Q-Learning Implementation"
   ]
  },
  {
   "cell_type": "code",
   "execution_count": 10,
   "metadata": {},
   "outputs": [],
   "source": [
    "# Initialize Q-learning search\n",
    "q_learning_search = ReinforcementLearningSearch(\n",
    "    search_space=search_space,\n",
    "    method='q_learning',\n",
    "    num_episodes=10,  # Number of episodes/iterations\n",
    "    epochs_per_model=5,  # Number of epochs to train each model\n",
    "    batch_size=64,\n",
    "    device=device,\n",
    "    small_subset=True  # Use a small subset of data for faster evaluation\n",
    ")"
   ]
  },
  {
   "cell_type": "code",
   "execution_count": 11,
   "metadata": {},
   "outputs": [
    {
     "name": "stdout",
     "output_type": "stream",
     "text": [
      "Starting Q-Learning Search with 10 episodes...\n"
     ]
    },
    {
     "name": "stderr",
     "output_type": "stream",
     "text": [
      " 50%|█████     | 5/10 [14:27<14:25, 173.09s/it]"
     ]
    },
    {
     "name": "stdout",
     "output_type": "stream",
     "text": [
      "Episode 5/10, Epsilon: 0.9752, Best accuracy: 38.00%\n"
     ]
    },
    {
     "name": "stderr",
     "output_type": "stream",
     "text": [
      "100%|██████████| 10/10 [28:46<00:00, 172.68s/it]"
     ]
    },
    {
     "name": "stdout",
     "output_type": "stream",
     "text": [
      "Episode 10/10, Epsilon: 0.9511, Best accuracy: 38.00%\n",
      "Q-Learning Search completed in 28.78 minutes\n",
      "Best architecture accuracy: 38.00%\n"
     ]
    },
    {
     "name": "stderr",
     "output_type": "stream",
     "text": [
      "\n"
     ]
    }
   ],
   "source": [
    "# Perform Q-learning search\n",
    "best_ql_architecture, best_ql_model = q_learning_search.search(verbose=True)"
   ]
  },
  {
   "cell_type": "code",
   "execution_count": 12,
   "metadata": {},
   "outputs": [
    {
     "data": {
      "image/png": "[encoded data removed]",
      "text/plain": [
       "<Figure size 1200x500 with 2 Axes>"
      ]
     },
     "metadata": {},
     "output_type": "display_data"
    }
   ],
   "source": [
    "# Plot search results\n",
    "q_learning_search.plot_search_results()"
   ]
  },
  {
   "cell_type": "code",
   "execution_count": 13,
   "metadata": {},
   "outputs": [
    {
     "name": "stdout",
     "output_type": "stream",
     "text": [
      "Best Architecture Summary (q_learning):\n",
      "Accuracy: 38.00%\n",
      "\n",
      "Convolutional Layers:\n",
      "Layer 1:\n",
      "  Operation: conv3x3\n",
      "  Channels: 3 -> 64\n",
      "  Activation: elu\n",
      "  Pooling: None\n",
      "Layer 2:\n",
      "  Operation: conv5x5\n",
      "  Channels: 64 -> 32\n",
      "  Activation: selu\n",
      "  Pooling: max_pool2x2\n",
      "Layer 3:\n",
      "  Operation: conv7x7\n",
      "  Channels: 32 -> 64\n",
      "  Activation: selu\n",
      "  Pooling: None\n",
      "Layer 4:\n",
      "  Operation: conv3x3\n",
      "  Channels: 64 -> 128\n",
      "  Activation: relu\n",
      "  Pooling: avg_pool2x2\n",
      "\n",
      "Fully Connected Layers:\n",
      "Layer 1:\n",
      "  Size: 8192 -> 256\n",
      "  Activation: elu\n",
      "  Dropout: 0.0\n",
      "Layer 2:\n",
      "  Size: 256 -> 10\n",
      "  Activation: None\n",
      "  Dropout: 0.0\n",
      "\n"
     ]
    }
   ],
   "source": [
    "# Get a summary of the best architecture found\n",
    "print(q_learning_search.get_best_architecture_summary())"
   ]
  },
  {
   "cell_type": "markdown",
   "metadata": {},
   "source": [
    "## 6. Evolutionary Search Strategies\n",
    "\n",
    "Evolutionary algorithms mimic natural selection to evolve neural architectures over generations.\n",
    "\n",
    "### 6.1 Theory\n",
    "\n",
    "Evolutionary NAS works by:\n",
    "1. Maintaining a population of architectures\n",
    "2. Selecting the fittest architectures as parents\n",
    "3. Creating new architectures through crossover and mutation\n",
    "4. Replacing the population with the new generation\n",
    "\n",
    "We'll implement two evolutionary approaches:\n",
    "1. **Simple Genetic Algorithm**: Optimizes for a single objective (accuracy)\n",
    "2. **NSGA-II**: Multi-objective optimization considering both accuracy and inference time\n",
    "\n",
    "### 6.2 Simple Genetic Algorithm Implementation"
   ]
  },
  {
   "cell_type": "code",
   "execution_count": 8,
   "metadata": {},
   "outputs": [],
   "source": [
    "# Initialize simple genetic algorithm search\n",
    "simple_ga_search = EvolutionarySearch(\n",
    "    search_space=search_space,\n",
    "    method='simple_ga',\n",
    "    population_size=10,  # Size of the population\n",
    "    num_generations=5,  # Number of generations\n",
    "    mutation_rate=0.2,  # Probability of mutation\n",
    "    crossover_rate=0.5,  # Probability of crossover\n",
    "    tournament_size=3,  # Size of tournament for selection\n",
    "    epochs_per_model=5,  # Number of epochs to train each model\n",
    "    batch_size=64,\n",
    "    device=device,\n",
    "    small_subset=True  # Use a small subset of data for faster evaluation\n",
    ")"
   ]
  },
  {
   "cell_type": "code",
   "execution_count": 9,
   "metadata": {},
   "outputs": [
    {
     "name": "stdout",
     "output_type": "stream",
     "text": [
      "Starting SIMPLE GA Search with 10 individuals and 5 generations...\n",
      "Evaluating 10 individuals...\n"
     ]
    },
    {
     "name": "stderr",
     "output_type": "stream",
     "text": [
      "  0%|          | 0/10 [00:00<?, ?it/s]"
     ]
    },
    {
     "name": "stderr",
     "output_type": "stream",
     "text": [
      " 10%|█         | 1/10 [02:54<26:14, 174.97s/it]"
     ]
    },
    {
     "name": "stdout",
     "output_type": "stream",
     "text": [
      "New best architecture found! Accuracy: 29.00%\n"
     ]
    },
    {
     "name": "stderr",
     "output_type": "stream",
     "text": [
      " 20%|██        | 2/10 [05:52<23:31, 176.39s/it]"
     ]
    },
    {
     "name": "stdout",
     "output_type": "stream",
     "text": [
      "New best architecture found! Accuracy: 37.00%\n"
     ]
    },
    {
     "name": "stderr",
     "output_type": "stream",
     "text": [
      " 30%|███       | 3/10 [08:48<20:34, 176.31s/it]"
     ]
    },
    {
     "name": "stdout",
     "output_type": "stream",
     "text": [
      "New best architecture found! Accuracy: 38.50%\n"
     ]
    },
    {
     "name": "stderr",
     "output_type": "stream",
     "text": [
      " 40%|████      | 4/10 [11:53<17:57, 179.59s/it]"
     ]
    },
    {
     "name": "stdout",
     "output_type": "stream",
     "text": [
      "New best architecture found! Accuracy: 40.50%\n"
     ]
    },
    {
     "name": "stderr",
     "output_type": "stream",
     "text": [
      "100%|██████████| 10/10 [29:29<00:00, 176.96s/it]\n"
     ]
    },
    {
     "name": "stdout",
     "output_type": "stream",
     "text": [
      "Generation 0: Avg Fitness = 35.80%, Best Fitness = 40.50%\n",
      "\n",
      "Generation 1/5\n",
      "Evaluating 10 individuals...\n"
     ]
    },
    {
     "name": "stderr",
     "output_type": "stream",
     "text": [
      "100%|██████████| 10/10 [25:51<00:00, 155.17s/it]\n"
     ]
    },
    {
     "name": "stdout",
     "output_type": "stream",
     "text": [
      "Generation 1: Avg Fitness = 37.60%, Best Fitness = 40.50%\n",
      "\n",
      "Generation 2/5\n",
      "Evaluating 10 individuals...\n"
     ]
    },
    {
     "name": "stderr",
     "output_type": "stream",
     "text": [
      "100%|██████████| 10/10 [26:12<00:00, 157.21s/it]\n"
     ]
    },
    {
     "name": "stdout",
     "output_type": "stream",
     "text": [
      "Generation 2: Avg Fitness = 37.40%, Best Fitness = 40.50%\n",
      "\n",
      "Generation 3/5\n",
      "Evaluating 10 individuals...\n"
     ]
    },
    {
     "name": "stderr",
     "output_type": "stream",
     "text": [
      " 20%|██        | 2/10 [02:51<11:25, 85.67s/it]"
     ]
    },
    {
     "name": "stdout",
     "output_type": "stream",
     "text": [
      "New best architecture found! Accuracy: 43.00%\n"
     ]
    },
    {
     "name": "stderr",
     "output_type": "stream",
     "text": [
      "100%|██████████| 10/10 [26:02<00:00, 156.30s/it]\n"
     ]
    },
    {
     "name": "stdout",
     "output_type": "stream",
     "text": [
      "Generation 3: Avg Fitness = 39.10%, Best Fitness = 43.00%\n",
      "\n",
      "Generation 4/5\n",
      "Evaluating 10 individuals...\n"
     ]
    },
    {
     "name": "stderr",
     "output_type": "stream",
     "text": [
      "100%|██████████| 10/10 [26:05<00:00, 156.52s/it]\n"
     ]
    },
    {
     "name": "stdout",
     "output_type": "stream",
     "text": [
      "Generation 4: Avg Fitness = 38.00%, Best Fitness = 43.00%\n",
      "\n",
      "Generation 5/5\n",
      "Evaluating 10 individuals...\n"
     ]
    },
    {
     "name": "stderr",
     "output_type": "stream",
     "text": [
      "100%|██████████| 10/10 [25:51<00:00, 155.11s/it]"
     ]
    },
    {
     "name": "stdout",
     "output_type": "stream",
     "text": [
      "New best architecture found! Accuracy: 46.50%\n",
      "Generation 5: Avg Fitness = 39.50%, Best Fitness = 46.50%\n",
      "Evolutionary Search completed in 159.55 minutes\n",
      "Best architecture accuracy: 46.50%\n"
     ]
    },
    {
     "name": "stderr",
     "output_type": "stream",
     "text": [
      "\n"
     ]
    }
   ],
   "source": [
    "# Perform simple genetic algorithm search\n",
    "best_ga_architecture, best_ga_model = simple_ga_search.search(verbose=True)"
   ]
  },
  {
   "cell_type": "code",
   "execution_count": 10,
   "metadata": {},
   "outputs": [
    {
     "data": {
      "image/png": "[encoded data removed]",
      "text/plain": [
       "<Figure size 1000x600 with 1 Axes>"
      ]
     },
     "metadata": {},
     "output_type": "display_data"
    }
   ],
   "source": [
    "# Plot fitness history\n",
    "simple_ga_search.plot_fitness_history()"
   ]
  },
  {
   "cell_type": "code",
   "execution_count": 11,
   "metadata": {},
   "outputs": [
    {
     "name": "stdout",
     "output_type": "stream",
     "text": [
      "Best Architecture Summary:\n",
      "Accuracy: 46.50%\n",
      "\n",
      "Convolutional Layers:\n",
      "Layer 1:\n",
      "  Operation: avg_pool3x3\n",
      "  Channels: 3 -> 32\n",
      "  Activation: selu\n",
      "  Pooling: None\n",
      "Layer 2:\n",
      "  Operation: max_pool3x3\n",
      "  Channels: 32 -> 64\n",
      "  Activation: relu\n",
      "  Pooling: max_pool2x2\n",
      "\n",
      "Fully Connected Layers:\n",
      "Layer 1:\n",
      "  Size: 16384 -> 256\n",
      "  Activation: leaky_relu\n",
      "  Dropout: 0.5\n",
      "Layer 2:\n",
      "  Size: 256 -> 10\n",
      "  Activation: None\n",
      "  Dropout: 0.0\n",
      "\n"
     ]
    }
   ],
   "source": [
    "# Get a summary of the best architecture found\n",
    "print(simple_ga_search.get_best_architecture_summary())"
   ]
  },
  {
   "cell_type": "markdown",
   "metadata": {},
   "source": [
    "## 7. Gradient-Based Search (DARTS)\n",
    "\n",
    "Differentiable Architecture Search (DARTS) is a gradient-based approach that relaxes the discrete architecture search space to a continuous one, allowing optimization via gradient descent.\n",
    "\n",
    "### 7.1 Theory\n",
    "\n",
    "DARTS works by:\n",
    "1. Relaxing the discrete architecture choices to continuous weights\n",
    "2. Training both the network weights and architecture weights simultaneously\n",
    "3. Deriving the final discrete architecture from the learned continuous weights\n",
    "\n",
    "We'll implement only one DARTS variants:\n",
    "1. **First-order approximation**: Simpler and faster, but less accurate than second-order approximation\n",
    "\n",
    "### 7.2 First-Order DARTS Implementation"
   ]
  },
  {
   "cell_type": "code",
   "execution_count": 12,
   "metadata": {},
   "outputs": [],
   "source": [
    "# Initialize first-order DARTS search\n",
    "first_order_darts_search = DARTSSearch(\n",
    "    search_space=search_space,\n",
    "    method='first_order',\n",
    "    channels=16,  # Initial number of channels\n",
    "    num_cells=8,  # Number of cells in the network\n",
    "    epochs=10,  # Number of epochs for search\n",
    "    batch_size=64,\n",
    "    device=device,\n",
    "    small_subset=True  # Use a small subset of data for faster evaluation\n",
    ")"
   ]
  },
  {
   "cell_type": "code",
   "execution_count": 14,
   "metadata": {},
   "outputs": [
    {
     "name": "stdout",
     "output_type": "stream",
     "text": [
      "Starting DARTS Search (first_order) for 10 epochs...\n",
      "\n",
      "Epoch 1/10\n"
     ]
    },
    {
     "name": "stderr",
     "output_type": "stream",
     "text": [
      "  0%|          | 0/15 [00:24<?, ?it/s]\n"
     ]
    },
    {
     "ename": "RuntimeError",
     "evalue": "Given groups=1, weight of size [32, 32, 3, 3], expected input[64, 16, 32, 32] to have 32 channels, but got 16 channels instead",
     "output_type": "error",
     "traceback": [
      "\u001b[31m---------------------------------------------------------------------------\u001b[39m",
      "\u001b[31mRuntimeError\u001b[39m                              Traceback (most recent call last)",
      "\u001b[36mCell\u001b[39m\u001b[36m \u001b[39m\u001b[32mIn[14]\u001b[39m\u001b[32m, line 2\u001b[39m\n\u001b[32m      1\u001b[39m \u001b[38;5;66;03m# Perform first-order DARTS search\u001b[39;00m\n\u001b[32m----> \u001b[39m\u001b[32m2\u001b[39m best_fo_darts_architecture, best_fo_darts_model = \u001b[43mfirst_order_darts_search\u001b[49m\u001b[43m.\u001b[49m\u001b[43msearch\u001b[49m\u001b[43m(\u001b[49m\u001b[43mverbose\u001b[49m\u001b[43m=\u001b[49m\u001b[38;5;28;43;01mTrue\u001b[39;49;00m\u001b[43m)\u001b[49m\n",
      "\u001b[36mFile \u001b[39m\u001b[32m~/Documents/projects/internal/workshop/nas-hpo-workshop/src/library/nas/darts_search.py:320\u001b[39m, in \u001b[36mDARTSSearch.search\u001b[39m\u001b[34m(self, verbose, use_simple_sampling)\u001b[39m\n\u001b[32m    316\u001b[39m \u001b[38;5;66;03m# First-order approximation: Update architecture then weights\u001b[39;00m\n\u001b[32m    317\u001b[39m \n\u001b[32m    318\u001b[39m \u001b[38;5;66;03m# Update architecture parameters\u001b[39;00m\n\u001b[32m    319\u001b[39m alpha_optimizer.zero_grad()\n\u001b[32m--> \u001b[39m\u001b[32m320\u001b[39m outputs = \u001b[43mmodel\u001b[49m\u001b[43m(\u001b[49m\u001b[43minputs\u001b[49m\u001b[43m)\u001b[49m\n\u001b[32m    321\u001b[39m loss = criterion(outputs, targets)\n\u001b[32m    322\u001b[39m loss.backward()\n",
      "\u001b[36mFile \u001b[39m\u001b[32m~/.pyenv/versions/3.11.9/envs/NASWorkshopEnv/lib/python3.11/site-packages/torch/nn/modules/module.py:1751\u001b[39m, in \u001b[36mModule._wrapped_call_impl\u001b[39m\u001b[34m(self, *args, **kwargs)\u001b[39m\n\u001b[32m   1749\u001b[39m     \u001b[38;5;28;01mreturn\u001b[39;00m \u001b[38;5;28mself\u001b[39m._compiled_call_impl(*args, **kwargs)  \u001b[38;5;66;03m# type: ignore[misc]\u001b[39;00m\n\u001b[32m   1750\u001b[39m \u001b[38;5;28;01melse\u001b[39;00m:\n\u001b[32m-> \u001b[39m\u001b[32m1751\u001b[39m     \u001b[38;5;28;01mreturn\u001b[39;00m \u001b[38;5;28;43mself\u001b[39;49m\u001b[43m.\u001b[49m\u001b[43m_call_impl\u001b[49m\u001b[43m(\u001b[49m\u001b[43m*\u001b[49m\u001b[43margs\u001b[49m\u001b[43m,\u001b[49m\u001b[43m \u001b[49m\u001b[43m*\u001b[49m\u001b[43m*\u001b[49m\u001b[43mkwargs\u001b[49m\u001b[43m)\u001b[49m\n",
      "\u001b[36mFile \u001b[39m\u001b[32m~/.pyenv/versions/3.11.9/envs/NASWorkshopEnv/lib/python3.11/site-packages/torch/nn/modules/module.py:1762\u001b[39m, in \u001b[36mModule._call_impl\u001b[39m\u001b[34m(self, *args, **kwargs)\u001b[39m\n\u001b[32m   1757\u001b[39m \u001b[38;5;66;03m# If we don't have any hooks, we want to skip the rest of the logic in\u001b[39;00m\n\u001b[32m   1758\u001b[39m \u001b[38;5;66;03m# this function, and just call forward.\u001b[39;00m\n\u001b[32m   1759\u001b[39m \u001b[38;5;28;01mif\u001b[39;00m \u001b[38;5;129;01mnot\u001b[39;00m (\u001b[38;5;28mself\u001b[39m._backward_hooks \u001b[38;5;129;01mor\u001b[39;00m \u001b[38;5;28mself\u001b[39m._backward_pre_hooks \u001b[38;5;129;01mor\u001b[39;00m \u001b[38;5;28mself\u001b[39m._forward_hooks \u001b[38;5;129;01mor\u001b[39;00m \u001b[38;5;28mself\u001b[39m._forward_pre_hooks\n\u001b[32m   1760\u001b[39m         \u001b[38;5;129;01mor\u001b[39;00m _global_backward_pre_hooks \u001b[38;5;129;01mor\u001b[39;00m _global_backward_hooks\n\u001b[32m   1761\u001b[39m         \u001b[38;5;129;01mor\u001b[39;00m _global_forward_hooks \u001b[38;5;129;01mor\u001b[39;00m _global_forward_pre_hooks):\n\u001b[32m-> \u001b[39m\u001b[32m1762\u001b[39m     \u001b[38;5;28;01mreturn\u001b[39;00m \u001b[43mforward_call\u001b[49m\u001b[43m(\u001b[49m\u001b[43m*\u001b[49m\u001b[43margs\u001b[49m\u001b[43m,\u001b[49m\u001b[43m \u001b[49m\u001b[43m*\u001b[49m\u001b[43m*\u001b[49m\u001b[43mkwargs\u001b[49m\u001b[43m)\u001b[49m\n\u001b[32m   1764\u001b[39m result = \u001b[38;5;28;01mNone\u001b[39;00m\n\u001b[32m   1765\u001b[39m called_always_called_hooks = \u001b[38;5;28mset\u001b[39m()\n",
      "\u001b[36mFile \u001b[39m\u001b[32m~/Documents/projects/internal/workshop/nas-hpo-workshop/src/library/nas/darts_search.py:176\u001b[39m, in \u001b[36mDARTSNetwork.forward\u001b[39m\u001b[34m(self, x)\u001b[39m\n\u001b[32m    173\u001b[39m \u001b[38;5;28;01mfor\u001b[39;00m i, cell \u001b[38;5;129;01min\u001b[39;00m \u001b[38;5;28menumerate\u001b[39m(\u001b[38;5;28mself\u001b[39m.cells):\n\u001b[32m    174\u001b[39m     \u001b[38;5;66;03m# Get architecture weights for this cell (softmax over operations)\u001b[39;00m\n\u001b[32m    175\u001b[39m     weights = F.softmax(\u001b[38;5;28mself\u001b[39m.alphas[i], dim=-\u001b[32m1\u001b[39m)\n\u001b[32m--> \u001b[39m\u001b[32m176\u001b[39m     x = \u001b[43mcell\u001b[49m\u001b[43m(\u001b[49m\u001b[43mx\u001b[49m\u001b[43m,\u001b[49m\u001b[43m \u001b[49m\u001b[43mweights\u001b[49m\u001b[43m)\u001b[49m\n\u001b[32m    178\u001b[39m \u001b[38;5;66;03m# Global pooling and classifier\u001b[39;00m\n\u001b[32m    179\u001b[39m x = \u001b[38;5;28mself\u001b[39m.global_pooling(x)\n",
      "\u001b[36mFile \u001b[39m\u001b[32m~/.pyenv/versions/3.11.9/envs/NASWorkshopEnv/lib/python3.11/site-packages/torch/nn/modules/module.py:1751\u001b[39m, in \u001b[36mModule._wrapped_call_impl\u001b[39m\u001b[34m(self, *args, **kwargs)\u001b[39m\n\u001b[32m   1749\u001b[39m     \u001b[38;5;28;01mreturn\u001b[39;00m \u001b[38;5;28mself\u001b[39m._compiled_call_impl(*args, **kwargs)  \u001b[38;5;66;03m# type: ignore[misc]\u001b[39;00m\n\u001b[32m   1750\u001b[39m \u001b[38;5;28;01melse\u001b[39;00m:\n\u001b[32m-> \u001b[39m\u001b[32m1751\u001b[39m     \u001b[38;5;28;01mreturn\u001b[39;00m \u001b[38;5;28;43mself\u001b[39;49m\u001b[43m.\u001b[49m\u001b[43m_call_impl\u001b[49m\u001b[43m(\u001b[49m\u001b[43m*\u001b[49m\u001b[43margs\u001b[49m\u001b[43m,\u001b[49m\u001b[43m \u001b[49m\u001b[43m*\u001b[49m\u001b[43m*\u001b[49m\u001b[43mkwargs\u001b[49m\u001b[43m)\u001b[49m\n",
      "\u001b[36mFile \u001b[39m\u001b[32m~/.pyenv/versions/3.11.9/envs/NASWorkshopEnv/lib/python3.11/site-packages/torch/nn/modules/module.py:1762\u001b[39m, in \u001b[36mModule._call_impl\u001b[39m\u001b[34m(self, *args, **kwargs)\u001b[39m\n\u001b[32m   1757\u001b[39m \u001b[38;5;66;03m# If we don't have any hooks, we want to skip the rest of the logic in\u001b[39;00m\n\u001b[32m   1758\u001b[39m \u001b[38;5;66;03m# this function, and just call forward.\u001b[39;00m\n\u001b[32m   1759\u001b[39m \u001b[38;5;28;01mif\u001b[39;00m \u001b[38;5;129;01mnot\u001b[39;00m (\u001b[38;5;28mself\u001b[39m._backward_hooks \u001b[38;5;129;01mor\u001b[39;00m \u001b[38;5;28mself\u001b[39m._backward_pre_hooks \u001b[38;5;129;01mor\u001b[39;00m \u001b[38;5;28mself\u001b[39m._forward_hooks \u001b[38;5;129;01mor\u001b[39;00m \u001b[38;5;28mself\u001b[39m._forward_pre_hooks\n\u001b[32m   1760\u001b[39m         \u001b[38;5;129;01mor\u001b[39;00m _global_backward_pre_hooks \u001b[38;5;129;01mor\u001b[39;00m _global_backward_hooks\n\u001b[32m   1761\u001b[39m         \u001b[38;5;129;01mor\u001b[39;00m _global_forward_hooks \u001b[38;5;129;01mor\u001b[39;00m _global_forward_pre_hooks):\n\u001b[32m-> \u001b[39m\u001b[32m1762\u001b[39m     \u001b[38;5;28;01mreturn\u001b[39;00m \u001b[43mforward_call\u001b[49m\u001b[43m(\u001b[49m\u001b[43m*\u001b[49m\u001b[43margs\u001b[49m\u001b[43m,\u001b[49m\u001b[43m \u001b[49m\u001b[43m*\u001b[49m\u001b[43m*\u001b[49m\u001b[43mkwargs\u001b[49m\u001b[43m)\u001b[49m\n\u001b[32m   1764\u001b[39m result = \u001b[38;5;28;01mNone\u001b[39;00m\n\u001b[32m   1765\u001b[39m called_always_called_hooks = \u001b[38;5;28mset\u001b[39m()\n",
      "\u001b[36mFile \u001b[39m\u001b[32m~/Documents/projects/internal/workshop/nas-hpo-workshop/src/library/nas/darts_search.py:103\u001b[39m, in \u001b[36mDARTSCell.forward\u001b[39m\u001b[34m(self, x, weights)\u001b[39m\n\u001b[32m     92\u001b[39m \u001b[38;5;28;01mdef\u001b[39;00m\u001b[38;5;250m \u001b[39m\u001b[34mforward\u001b[39m(\u001b[38;5;28mself\u001b[39m, x, weights):\n\u001b[32m     93\u001b[39m \u001b[38;5;250m    \u001b[39m\u001b[33;03m\"\"\"\u001b[39;00m\n\u001b[32m     94\u001b[39m \u001b[33;03m    Forward pass with architecture weights\u001b[39;00m\n\u001b[32m     95\u001b[39m \u001b[33;03m    \u001b[39;00m\n\u001b[32m   (...)\u001b[39m\u001b[32m    101\u001b[39m \u001b[33;03m        Output tensor\u001b[39;00m\n\u001b[32m    102\u001b[39m \u001b[33;03m    \"\"\"\u001b[39;00m\n\u001b[32m--> \u001b[39m\u001b[32m103\u001b[39m     \u001b[38;5;28;01mreturn\u001b[39;00m \u001b[38;5;28;43mself\u001b[39;49m\u001b[43m.\u001b[49m\u001b[43mop\u001b[49m\u001b[43m(\u001b[49m\u001b[43mx\u001b[49m\u001b[43m,\u001b[49m\u001b[43m \u001b[49m\u001b[43mweights\u001b[49m\u001b[43m)\u001b[49m\n",
      "\u001b[36mFile \u001b[39m\u001b[32m~/.pyenv/versions/3.11.9/envs/NASWorkshopEnv/lib/python3.11/site-packages/torch/nn/modules/module.py:1751\u001b[39m, in \u001b[36mModule._wrapped_call_impl\u001b[39m\u001b[34m(self, *args, **kwargs)\u001b[39m\n\u001b[32m   1749\u001b[39m     \u001b[38;5;28;01mreturn\u001b[39;00m \u001b[38;5;28mself\u001b[39m._compiled_call_impl(*args, **kwargs)  \u001b[38;5;66;03m# type: ignore[misc]\u001b[39;00m\n\u001b[32m   1750\u001b[39m \u001b[38;5;28;01melse\u001b[39;00m:\n\u001b[32m-> \u001b[39m\u001b[32m1751\u001b[39m     \u001b[38;5;28;01mreturn\u001b[39;00m \u001b[38;5;28;43mself\u001b[39;49m\u001b[43m.\u001b[49m\u001b[43m_call_impl\u001b[49m\u001b[43m(\u001b[49m\u001b[43m*\u001b[49m\u001b[43margs\u001b[49m\u001b[43m,\u001b[49m\u001b[43m \u001b[49m\u001b[43m*\u001b[49m\u001b[43m*\u001b[49m\u001b[43mkwargs\u001b[49m\u001b[43m)\u001b[49m\n",
      "\u001b[36mFile \u001b[39m\u001b[32m~/.pyenv/versions/3.11.9/envs/NASWorkshopEnv/lib/python3.11/site-packages/torch/nn/modules/module.py:1762\u001b[39m, in \u001b[36mModule._call_impl\u001b[39m\u001b[34m(self, *args, **kwargs)\u001b[39m\n\u001b[32m   1757\u001b[39m \u001b[38;5;66;03m# If we don't have any hooks, we want to skip the rest of the logic in\u001b[39;00m\n\u001b[32m   1758\u001b[39m \u001b[38;5;66;03m# this function, and just call forward.\u001b[39;00m\n\u001b[32m   1759\u001b[39m \u001b[38;5;28;01mif\u001b[39;00m \u001b[38;5;129;01mnot\u001b[39;00m (\u001b[38;5;28mself\u001b[39m._backward_hooks \u001b[38;5;129;01mor\u001b[39;00m \u001b[38;5;28mself\u001b[39m._backward_pre_hooks \u001b[38;5;129;01mor\u001b[39;00m \u001b[38;5;28mself\u001b[39m._forward_hooks \u001b[38;5;129;01mor\u001b[39;00m \u001b[38;5;28mself\u001b[39m._forward_pre_hooks\n\u001b[32m   1760\u001b[39m         \u001b[38;5;129;01mor\u001b[39;00m _global_backward_pre_hooks \u001b[38;5;129;01mor\u001b[39;00m _global_backward_hooks\n\u001b[32m   1761\u001b[39m         \u001b[38;5;129;01mor\u001b[39;00m _global_forward_hooks \u001b[38;5;129;01mor\u001b[39;00m _global_forward_pre_hooks):\n\u001b[32m-> \u001b[39m\u001b[32m1762\u001b[39m     \u001b[38;5;28;01mreturn\u001b[39;00m \u001b[43mforward_call\u001b[49m\u001b[43m(\u001b[49m\u001b[43m*\u001b[49m\u001b[43margs\u001b[49m\u001b[43m,\u001b[49m\u001b[43m \u001b[49m\u001b[43m*\u001b[49m\u001b[43m*\u001b[49m\u001b[43mkwargs\u001b[49m\u001b[43m)\u001b[49m\n\u001b[32m   1764\u001b[39m result = \u001b[38;5;28;01mNone\u001b[39;00m\n\u001b[32m   1765\u001b[39m called_always_called_hooks = \u001b[38;5;28mset\u001b[39m()\n",
      "\u001b[36mFile \u001b[39m\u001b[32m~/Documents/projects/internal/workshop/nas-hpo-workshop/src/library/nas/darts_search.py:61\u001b[39m, in \u001b[36mMixedOperation.forward\u001b[39m\u001b[34m(self, x, weights)\u001b[39m\n\u001b[32m     59\u001b[39m result = \u001b[32m0\u001b[39m\n\u001b[32m     60\u001b[39m \u001b[38;5;28;01mfor\u001b[39;00m i \u001b[38;5;129;01min\u001b[39;00m \u001b[38;5;28mrange\u001b[39m(\u001b[38;5;28mlen\u001b[39m(\u001b[38;5;28mself\u001b[39m.ops)):\n\u001b[32m---> \u001b[39m\u001b[32m61\u001b[39m     result = result + weights[i] * \u001b[38;5;28;43mself\u001b[39;49m\u001b[43m.\u001b[49m\u001b[43mops\u001b[49m\u001b[43m[\u001b[49m\u001b[43mi\u001b[49m\u001b[43m]\u001b[49m\u001b[43m(\u001b[49m\u001b[43mx\u001b[49m\u001b[43m)\u001b[49m\n\u001b[32m     62\u001b[39m \u001b[38;5;28;01mreturn\u001b[39;00m result\n",
      "\u001b[36mFile \u001b[39m\u001b[32m~/.pyenv/versions/3.11.9/envs/NASWorkshopEnv/lib/python3.11/site-packages/torch/nn/modules/module.py:1751\u001b[39m, in \u001b[36mModule._wrapped_call_impl\u001b[39m\u001b[34m(self, *args, **kwargs)\u001b[39m\n\u001b[32m   1749\u001b[39m     \u001b[38;5;28;01mreturn\u001b[39;00m \u001b[38;5;28mself\u001b[39m._compiled_call_impl(*args, **kwargs)  \u001b[38;5;66;03m# type: ignore[misc]\u001b[39;00m\n\u001b[32m   1750\u001b[39m \u001b[38;5;28;01melse\u001b[39;00m:\n\u001b[32m-> \u001b[39m\u001b[32m1751\u001b[39m     \u001b[38;5;28;01mreturn\u001b[39;00m \u001b[38;5;28;43mself\u001b[39;49m\u001b[43m.\u001b[49m\u001b[43m_call_impl\u001b[49m\u001b[43m(\u001b[49m\u001b[43m*\u001b[49m\u001b[43margs\u001b[49m\u001b[43m,\u001b[49m\u001b[43m \u001b[49m\u001b[43m*\u001b[49m\u001b[43m*\u001b[49m\u001b[43mkwargs\u001b[49m\u001b[43m)\u001b[49m\n",
      "\u001b[36mFile \u001b[39m\u001b[32m~/.pyenv/versions/3.11.9/envs/NASWorkshopEnv/lib/python3.11/site-packages/torch/nn/modules/module.py:1762\u001b[39m, in \u001b[36mModule._call_impl\u001b[39m\u001b[34m(self, *args, **kwargs)\u001b[39m\n\u001b[32m   1757\u001b[39m \u001b[38;5;66;03m# If we don't have any hooks, we want to skip the rest of the logic in\u001b[39;00m\n\u001b[32m   1758\u001b[39m \u001b[38;5;66;03m# this function, and just call forward.\u001b[39;00m\n\u001b[32m   1759\u001b[39m \u001b[38;5;28;01mif\u001b[39;00m \u001b[38;5;129;01mnot\u001b[39;00m (\u001b[38;5;28mself\u001b[39m._backward_hooks \u001b[38;5;129;01mor\u001b[39;00m \u001b[38;5;28mself\u001b[39m._backward_pre_hooks \u001b[38;5;129;01mor\u001b[39;00m \u001b[38;5;28mself\u001b[39m._forward_hooks \u001b[38;5;129;01mor\u001b[39;00m \u001b[38;5;28mself\u001b[39m._forward_pre_hooks\n\u001b[32m   1760\u001b[39m         \u001b[38;5;129;01mor\u001b[39;00m _global_backward_pre_hooks \u001b[38;5;129;01mor\u001b[39;00m _global_backward_hooks\n\u001b[32m   1761\u001b[39m         \u001b[38;5;129;01mor\u001b[39;00m _global_forward_hooks \u001b[38;5;129;01mor\u001b[39;00m _global_forward_pre_hooks):\n\u001b[32m-> \u001b[39m\u001b[32m1762\u001b[39m     \u001b[38;5;28;01mreturn\u001b[39;00m \u001b[43mforward_call\u001b[49m\u001b[43m(\u001b[49m\u001b[43m*\u001b[49m\u001b[43margs\u001b[49m\u001b[43m,\u001b[49m\u001b[43m \u001b[49m\u001b[43m*\u001b[49m\u001b[43m*\u001b[49m\u001b[43mkwargs\u001b[49m\u001b[43m)\u001b[49m\n\u001b[32m   1764\u001b[39m result = \u001b[38;5;28;01mNone\u001b[39;00m\n\u001b[32m   1765\u001b[39m called_always_called_hooks = \u001b[38;5;28mset\u001b[39m()\n",
      "\u001b[36mFile \u001b[39m\u001b[32m~/.pyenv/versions/3.11.9/envs/NASWorkshopEnv/lib/python3.11/site-packages/torch/nn/modules/conv.py:554\u001b[39m, in \u001b[36mConv2d.forward\u001b[39m\u001b[34m(self, input)\u001b[39m\n\u001b[32m    553\u001b[39m \u001b[38;5;28;01mdef\u001b[39;00m\u001b[38;5;250m \u001b[39m\u001b[34mforward\u001b[39m(\u001b[38;5;28mself\u001b[39m, \u001b[38;5;28minput\u001b[39m: Tensor) -> Tensor:\n\u001b[32m--> \u001b[39m\u001b[32m554\u001b[39m     \u001b[38;5;28;01mreturn\u001b[39;00m \u001b[38;5;28;43mself\u001b[39;49m\u001b[43m.\u001b[49m\u001b[43m_conv_forward\u001b[49m\u001b[43m(\u001b[49m\u001b[38;5;28;43minput\u001b[39;49m\u001b[43m,\u001b[49m\u001b[43m \u001b[49m\u001b[38;5;28;43mself\u001b[39;49m\u001b[43m.\u001b[49m\u001b[43mweight\u001b[49m\u001b[43m,\u001b[49m\u001b[43m \u001b[49m\u001b[38;5;28;43mself\u001b[39;49m\u001b[43m.\u001b[49m\u001b[43mbias\u001b[49m\u001b[43m)\u001b[49m\n",
      "\u001b[36mFile \u001b[39m\u001b[32m~/.pyenv/versions/3.11.9/envs/NASWorkshopEnv/lib/python3.11/site-packages/torch/nn/modules/conv.py:549\u001b[39m, in \u001b[36mConv2d._conv_forward\u001b[39m\u001b[34m(self, input, weight, bias)\u001b[39m\n\u001b[32m    537\u001b[39m \u001b[38;5;28;01mif\u001b[39;00m \u001b[38;5;28mself\u001b[39m.padding_mode != \u001b[33m\"\u001b[39m\u001b[33mzeros\u001b[39m\u001b[33m\"\u001b[39m:\n\u001b[32m    538\u001b[39m     \u001b[38;5;28;01mreturn\u001b[39;00m F.conv2d(\n\u001b[32m    539\u001b[39m         F.pad(\n\u001b[32m    540\u001b[39m             \u001b[38;5;28minput\u001b[39m, \u001b[38;5;28mself\u001b[39m._reversed_padding_repeated_twice, mode=\u001b[38;5;28mself\u001b[39m.padding_mode\n\u001b[32m   (...)\u001b[39m\u001b[32m    547\u001b[39m         \u001b[38;5;28mself\u001b[39m.groups,\n\u001b[32m    548\u001b[39m     )\n\u001b[32m--> \u001b[39m\u001b[32m549\u001b[39m \u001b[38;5;28;01mreturn\u001b[39;00m \u001b[43mF\u001b[49m\u001b[43m.\u001b[49m\u001b[43mconv2d\u001b[49m\u001b[43m(\u001b[49m\n\u001b[32m    550\u001b[39m \u001b[43m    \u001b[49m\u001b[38;5;28;43minput\u001b[39;49m\u001b[43m,\u001b[49m\u001b[43m \u001b[49m\u001b[43mweight\u001b[49m\u001b[43m,\u001b[49m\u001b[43m \u001b[49m\u001b[43mbias\u001b[49m\u001b[43m,\u001b[49m\u001b[43m \u001b[49m\u001b[38;5;28;43mself\u001b[39;49m\u001b[43m.\u001b[49m\u001b[43mstride\u001b[49m\u001b[43m,\u001b[49m\u001b[43m \u001b[49m\u001b[38;5;28;43mself\u001b[39;49m\u001b[43m.\u001b[49m\u001b[43mpadding\u001b[49m\u001b[43m,\u001b[49m\u001b[43m \u001b[49m\u001b[38;5;28;43mself\u001b[39;49m\u001b[43m.\u001b[49m\u001b[43mdilation\u001b[49m\u001b[43m,\u001b[49m\u001b[43m \u001b[49m\u001b[38;5;28;43mself\u001b[39;49m\u001b[43m.\u001b[49m\u001b[43mgroups\u001b[49m\n\u001b[32m    551\u001b[39m \u001b[43m\u001b[49m\u001b[43m)\u001b[49m\n",
      "\u001b[31mRuntimeError\u001b[39m: Given groups=1, weight of size [32, 32, 3, 3], expected input[64, 16, 32, 32] to have 32 channels, but got 16 channels instead"
     ]
    }
   ],
   "source": [
    "# Perform first-order DARTS search\n",
    "best_fo_darts_architecture, best_fo_darts_model = first_order_darts_search.search(verbose=True)"
   ]
  },
  {
   "cell_type": "code",
   "execution_count": null,
   "metadata": {},
   "outputs": [],
   "source": [
    "# Plot search history\n",
    "first_order_darts_search.plot_search_history()"
   ]
  },
  {
   "cell_type": "code",
   "execution_count": null,
   "metadata": {},
   "outputs": [],
   "source": [
    "# Plot architecture weights evolution\n",
    "first_order_darts_search.plot_architecture_weights()"
   ]
  },
  {
   "cell_type": "code",
   "execution_count": null,
   "metadata": {},
   "outputs": [],
   "source": [
    "# Get a summary of the best architecture found\n",
    "print(first_order_darts_search.get_best_architecture_summary())"
   ]
  },
  {
   "cell_type": "markdown",
   "metadata": {},
   "source": [
    "## 8. Conclusion\n",
    "\n",
    "In this notebook, we've implemented and compared different Neural Architecture Search (NAS) strategies:\n",
    "\n",
    "1. **Random Search**: Simple but effective baseline\n",
    "2. **Reinforcement Learning**: Policy Gradient and Q-learning approaches\n",
    "3. **Evolutionary Search**: Simple Genetic Algorithm\n",
    "4. **Gradient-Based Search**: DARTS with first order approximation\n",
    "\n",
    "\n",
    "### Best Practices:\n",
    "\n",
    "- **Random Search**: Great baseline and surprisingly effective for small search spaces\n",
    "- **Reinforcement Learning**: Works well when the reward signal is clear and consistent\n",
    "- **Evolutionary Search**: Excellent for multi-objective optimization (accuracy vs. efficiency)\n",
    "- **DARTS**: Efficient for large search spaces but requires careful implementation\n",
    "\n",
    "### Future Directions:\n",
    "\n",
    "- Explore more advanced NAS methods like Once-for-All Networks or Neural Architecture Transfer\n",
    "- Incorporate hardware-aware constraints for edge deployment\n",
    "- Combine different search strategies for better results\n",
    "- Apply NAS to different domains beyond image classification"
   ]
  },
  {
   "cell_type": "markdown",
   "metadata": {},
   "source": []
  }
 ],
 "metadata": {
  "kernelspec": {
   "display_name": "NASWorkshopEnv",
   "language": "python",
   "name": "python3"
  },
  "language_info": {
   "codemirror_mode": {
    "name": "ipython",
    "version": 3
   },
   "file_extension": ".py",
   "mimetype": "text/x-python",
   "name": "python",
   "nbconvert_exporter": "python",
   "pygments_lexer": "ipython3",
   "version": "3.11.9"
  }
 },
 "nbformat": 4,
 "nbformat_minor": 4
}
